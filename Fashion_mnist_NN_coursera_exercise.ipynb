{
  "cells": [
    {
      "cell_type": "markdown",
      "metadata": {
        "id": "view-in-github",
        "colab_type": "text"
      },
      "source": [
        "<a href=\"https://colab.research.google.com/github/HRS5020/Tensorflow/blob/main/Fashion_mnist_NN_coursera_exercise.ipynb\" target=\"_parent\"><img src=\"https://colab.research.google.com/assets/colab-badge.svg\" alt=\"Open In Colab\"/></a>"
      ]
    },
    {
      "cell_type": "code",
      "source": [
        "%tensorflow_version 2.x\n",
        "import tensorflow as tf\n",
        "import pandas as pd\n",
        "import numpy as np\n",
        "import matplotlib.pyplot as plt\n",
        "\n",
        "print(\"Tensorflow verion = \", tf.__version__)"
      ],
      "metadata": {
        "colab": {
          "base_uri": "https://localhost:8080/"
        },
        "id": "zTU96NmaQvRG",
        "outputId": "fd3f6ec9-de5b-4e7a-bfdd-f40f60966e9d"
      },
      "execution_count": 43,
      "outputs": [
        {
          "output_type": "stream",
          "name": "stdout",
          "text": [
            "Tensorflow verion =  2.8.0\n"
          ]
        }
      ]
    },
    {
      "cell_type": "code",
      "source": [
        "# load the dataset\n",
        "\n",
        "fmnist = tf.keras.datasets.fashion_mnist\n",
        "\n",
        "(training_images, training_labels), (test_images, test_labels) = fmnist.load_data()\n"
      ],
      "metadata": {
        "id": "JGC_ARylRVfN"
      },
      "execution_count": 44,
      "outputs": []
    },
    {
      "cell_type": "code",
      "source": [
        "# sample training data visualisation\n",
        "\n",
        "index =0\n",
        "\n",
        "np.set_printoptions(linewidth=320)\n",
        "# check the raw data\n",
        "# print(f'LABEL: {training_labels[index]}')\n",
        "# print(f'\\nIMAGE PIXEL ARRAY:\\n {training_images[index]}')\n",
        "\n",
        "# Visualize the image\n",
        "plt.imshow(training_images[index])"
      ],
      "metadata": {
        "colab": {
          "base_uri": "https://localhost:8080/",
          "height": 283
        },
        "id": "qwZ9QTCMRgY7",
        "outputId": "77efc49e-4bf2-439d-e45f-b74664373d55"
      },
      "execution_count": 45,
      "outputs": [
        {
          "output_type": "execute_result",
          "data": {
            "text/plain": [
              "<matplotlib.image.AxesImage at 0x7f9a3ff6cb10>"
            ]
          },
          "metadata": {},
          "execution_count": 45
        },
        {
          "output_type": "display_data",
          "data": {
            "text/plain": [
              "<Figure size 432x288 with 1 Axes>"
            ],
            "image/png": "[encoded data removed]"
          },
          "metadata": {
            "needs_background": "light"
          }
        }
      ]
    },
    {
      "cell_type": "code",
      "source": [
        "# Normalize the pixel values of the train and test images\n",
        "\n",
        "training_images  = training_images / 255.0\n",
        "test_images = test_images / 255.0"
      ],
      "metadata": {
        "id": "7KgtYRRsRuJ0"
      },
      "execution_count": 46,
      "outputs": []
    },
    {
      "cell_type": "code",
      "source": [
        "print(training_labels)"
      ],
      "metadata": {
        "colab": {
          "base_uri": "https://localhost:8080/"
        },
        "id": "-oXRwNqlSfwQ",
        "outputId": "661a16c1-e809-4558-9dc4-d0b026adc5ce"
      },
      "execution_count": 47,
      "outputs": [
        {
          "output_type": "stream",
          "name": "stdout",
          "text": [
            "[9 0 0 ... 3 0 5]\n"
          ]
        }
      ]
    },
    {
      "cell_type": "code",
      "source": [
        "# Build the classification model\n",
        "\n",
        "model = tf.keras.models.Sequential([tf.keras.layers.Flatten(), \n",
        "                                    tf.keras.layers.Dense(128, activation=tf.nn.relu), \n",
        "                                    tf.keras.layers.Dense(10, activation=tf.nn.softmax)])\n",
        "\n",
        "model.compile(optimizer = tf.optimizers.Adam(),\n",
        "              loss = 'sparse_categorical_crossentropy',\n",
        "              metrics=['accuracy'])\n",
        "\n",
        "model.fit(training_images, training_labels, epochs=5, batch_size=128)\n",
        "\n"
      ],
      "metadata": {
        "colab": {
          "base_uri": "https://localhost:8080/"
        },
        "id": "2IsN7WzfSioR",
        "outputId": "96740544-dba2-4e3d-b315-d66a528ea5db"
      },
      "execution_count": 48,
      "outputs": [
        {
          "output_type": "stream",
          "name": "stdout",
          "text": [
            "Epoch 1/5\n",
            "469/469 [==============================] - 3s 5ms/step - loss: 0.5517 - accuracy: 0.8102\n",
            "Epoch 2/5\n",
            "469/469 [==============================] - 2s 5ms/step - loss: 0.4019 - accuracy: 0.8593\n",
            "Epoch 3/5\n",
            "469/469 [==============================] - 2s 5ms/step - loss: 0.3649 - accuracy: 0.8709\n",
            "Epoch 4/5\n",
            "469/469 [==============================] - 2s 5ms/step - loss: 0.3378 - accuracy: 0.8787\n",
            "Epoch 5/5\n",
            "469/469 [==============================] - 2s 5ms/step - loss: 0.3194 - accuracy: 0.8851\n"
          ]
        },
        {
          "output_type": "execute_result",
          "data": {
            "text/plain": [
              "<keras.callbacks.History at 0x7f9a3fecc710>"
            ]
          },
          "metadata": {},
          "execution_count": 48
        }
      ]
    },
    {
      "cell_type": "code",
      "source": [
        "# Check how the model performs on unseen data \n",
        "\n",
        "result = model.evaluate(test_images, test_labels)\n",
        "print('Evaluation resuls:\\nLoss = {} \\nAccuracy = {}'.format(result[0],result[1]))"
      ],
      "metadata": {
        "colab": {
          "base_uri": "https://localhost:8080/"
        },
        "id": "L2aI1m0XS0hY",
        "outputId": "5f82ce24-6336-4d50-d4f6-d955e7867baa"
      },
      "execution_count": 49,
      "outputs": [
        {
          "output_type": "stream",
          "name": "stdout",
          "text": [
            "313/313 [==============================] - 1s 2ms/step - loss: 0.3923 - accuracy: 0.8593\n",
            "Evaluation resuls:\n",
            "Loss = 0.39234188199043274 \n",
            "Accuracy = 0.8593000173568726\n"
          ]
        }
      ]
    },
    {
      "cell_type": "markdown",
      "source": [
        "for a 128 hidden neurons in a hidden layer with relu activation fn,\n",
        "we could achieve the accuracy of 0.88 with training data and 0.86 with test data in 5 epochs.\n",
        "\n",
        "Now, we will experiment with these parameters and see the differences in result."
      ],
      "metadata": {
        "id": "CbE1SxhXTbAj"
      }
    },
    {
      "cell_type": "code",
      "source": [
        "# below returns the predicted value of each class by the trained model for each test images\n",
        "classifications = model.predict(test_images)\n",
        "\n",
        "# Example output probability for first test image\n",
        "print(classifications[0])\n",
        "print(np.argmax(classifications[0]))"
      ],
      "metadata": {
        "colab": {
          "base_uri": "https://localhost:8080/"
        },
        "id": "51UphO7sTRTG",
        "outputId": "2bbad7f9-dc4e-4ade-d908-a6f44f33b110"
      },
      "execution_count": 50,
      "outputs": [
        {
          "output_type": "stream",
          "name": "stdout",
          "text": [
            "[6.71183534e-06 3.55426799e-08 1.63222612e-05 1.62700435e-05 8.64675076e-06 4.02448475e-02 8.55987528e-05 1.15836106e-01 1.37894019e-03 8.42406571e-01]\n",
            "9\n"
          ]
        }
      ]
    },
    {
      "cell_type": "markdown",
      "source": [
        "**Imapct of number neurons in hidden layer **"
      ],
      "metadata": {
        "id": "y9ZP46SzWOg1"
      }
    },
    {
      "cell_type": "code",
      "source": [
        "# classification model function \n",
        "\n",
        "def classification_model(hidden_neurons,hidden_activation_fn):\n",
        "    model = tf.keras.models.Sequential([tf.keras.layers.Flatten(), \n",
        "                                    tf.keras.layers.Dense(hidden_neurons, activation=hidden_activation_fn), \n",
        "                                    tf.keras.layers.Dense(10, activation=tf.nn.softmax)])\n",
        "    return model"
      ],
      "metadata": {
        "id": "jAuh5HD6UvEc"
      },
      "execution_count": 51,
      "outputs": []
    },
    {
      "cell_type": "code",
      "source": [
        "# 512 hidden layer neurons\n",
        "model1 = classification_model(512, tf.nn.relu)\n",
        "model1.compile(optimizer = tf.optimizers.Adam(),\n",
        "              loss = 'sparse_categorical_crossentropy',\n",
        "              metrics=['accuracy'])\n",
        "\n",
        "model1.fit(training_images, training_labels, epochs=5, batch_size=128)"
      ],
      "metadata": {
        "colab": {
          "base_uri": "https://localhost:8080/"
        },
        "id": "E5ANKLoEYXb1",
        "outputId": "07b7671e-8cfa-4abf-a6c7-7927a673c693"
      },
      "execution_count": 52,
      "outputs": [
        {
          "output_type": "stream",
          "name": "stdout",
          "text": [
            "Epoch 1/5\n",
            "469/469 [==============================] - 5s 10ms/step - loss: 0.5006 - accuracy: 0.8255\n",
            "Epoch 2/5\n",
            "469/469 [==============================] - 5s 10ms/step - loss: 0.3749 - accuracy: 0.8667\n",
            "Epoch 3/5\n",
            "469/469 [==============================] - 4s 9ms/step - loss: 0.3321 - accuracy: 0.8793\n",
            "Epoch 4/5\n",
            "469/469 [==============================] - 4s 9ms/step - loss: 0.3061 - accuracy: 0.8883\n",
            "Epoch 5/5\n",
            "469/469 [==============================] - 4s 9ms/step - loss: 0.2857 - accuracy: 0.8957\n"
          ]
        },
        {
          "output_type": "execute_result",
          "data": {
            "text/plain": [
              "<keras.callbacks.History at 0x7f9a3fd48f50>"
            ]
          },
          "metadata": {},
          "execution_count": 52
        }
      ]
    },
    {
      "cell_type": "code",
      "source": [
        "# 1024 hidden layer neurons\n",
        "model2 = classification_model(1024, tf.nn.relu)\n",
        "model2.compile(optimizer = tf.optimizers.Adam(),\n",
        "              loss = 'sparse_categorical_crossentropy',\n",
        "              metrics=['accuracy'])\n",
        "\n",
        "model2.fit(training_images, training_labels, epochs=5, batch_size=128)"
      ],
      "metadata": {
        "colab": {
          "base_uri": "https://localhost:8080/"
        },
        "id": "z6G3m5wUYvzW",
        "outputId": "1af6b8d0-80c7-45e2-e771-e7a8f8844cec"
      },
      "execution_count": 53,
      "outputs": [
        {
          "output_type": "stream",
          "name": "stdout",
          "text": [
            "Epoch 1/5\n",
            "469/469 [==============================] - 8s 16ms/step - loss: 0.4954 - accuracy: 0.8266\n",
            "Epoch 2/5\n",
            "469/469 [==============================] - 8s 16ms/step - loss: 0.3656 - accuracy: 0.8687\n",
            "Epoch 3/5\n",
            "469/469 [==============================] - 8s 16ms/step - loss: 0.3212 - accuracy: 0.8829\n",
            "Epoch 4/5\n",
            "469/469 [==============================] - 8s 16ms/step - loss: 0.2983 - accuracy: 0.8898\n",
            "Epoch 5/5\n",
            "469/469 [==============================] - 8s 16ms/step - loss: 0.2825 - accuracy: 0.8956\n"
          ]
        },
        {
          "output_type": "execute_result",
          "data": {
            "text/plain": [
              "<keras.callbacks.History at 0x7f9a52e68450>"
            ]
          },
          "metadata": {},
          "execution_count": 53
        }
      ]
    },
    {
      "cell_type": "code",
      "source": [
        "result = model1.evaluate(test_images, test_labels)\n",
        "print('Evaluation resuls for model 1 :\\nLoss = {} \\nAccuracy = {}'.format(result[0],result[1]))\n",
        "\n",
        "result = model2.evaluate(test_images, test_labels)\n",
        "print('Evaluation resuls for model 2 :\\nLoss = {} \\nAccuracy = {}'.format(result[0],result[1]))"
      ],
      "metadata": {
        "colab": {
          "base_uri": "https://localhost:8080/"
        },
        "id": "iQqGsGk3ZwAz",
        "outputId": "96f301d9-eda3-4dbb-cdb6-b3a1bee3640f"
      },
      "execution_count": 54,
      "outputs": [
        {
          "output_type": "stream",
          "name": "stdout",
          "text": [
            "313/313 [==============================] - 1s 4ms/step - loss: 0.3794 - accuracy: 0.8646\n",
            "Evaluation resuls for model 1 :\n",
            "Loss = 0.37942779064178467 \n",
            "Accuracy = 0.8646000027656555\n",
            "313/313 [==============================] - 2s 5ms/step - loss: 0.3260 - accuracy: 0.8842\n",
            "Evaluation resuls for model 2 :\n",
            "Loss = 0.32601961493492126 \n",
            "Accuracy = 0.8841999769210815\n"
          ]
        }
      ]
    },
    {
      "cell_type": "markdown",
      "source": [
        "Accuracy does improve with increased neurons as well as time to train the model.\n",
        "However, the increase in training accuracy is negligible.\n",
        "Model 2 performs better for test data with 86.92% acc as compared model 1 with 82.38%"
      ],
      "metadata": {
        "id": "MOXyIzx0ZXgQ"
      }
    },
    {
      "cell_type": "markdown",
      "source": [
        "# Effect of number Epochs "
      ],
      "metadata": {
        "id": "tg96nXj2b85O"
      }
    },
    {
      "cell_type": "code",
      "source": [
        "# Build the classification model\n",
        "\n",
        "model3 = tf.keras.models.Sequential([tf.keras.layers.Flatten(), \n",
        "                                    tf.keras.layers.Dense(128, activation=tf.nn.relu), \n",
        "                                    tf.keras.layers.Dense(10, activation=tf.nn.softmax)])\n",
        "\n",
        "\n",
        "\n",
        "\n",
        "\n",
        "# Run a loop cloning the model for diff epochs\n",
        "for i in [5,10,15]:\n",
        "\n",
        "    model_cloned = tf.keras.models.clone_model(model3)\n",
        "\n",
        "    model_cloned.compile(optimizer = tf.optimizers.Adam(),\n",
        "                         loss = 'sparse_categorical_crossentropy',\n",
        "                         metrics=['accuracy'])\n",
        "\n",
        "    model_cloned.fit(training_images, training_labels, epochs=i, batch_size=128)\n",
        "\n",
        "    result = model_cloned.evaluate(test_images, test_labels)\n",
        "    print('Evaluation resuls for {} epochs :\\nLoss = {} \\nAccuracy = {}'.format(i, result[0],result[1]))\n",
        "\n",
        "\n"
      ],
      "metadata": {
        "colab": {
          "base_uri": "https://localhost:8080/"
        },
        "id": "RnnlOVUJZEVP",
        "outputId": "204e09fb-aad1-4397-e7ed-669582974f0c"
      },
      "execution_count": 55,
      "outputs": [
        {
          "output_type": "stream",
          "name": "stdout",
          "text": [
            "Epoch 1/5\n",
            "469/469 [==============================] - 2s 5ms/step - loss: 0.5636 - accuracy: 0.8054\n",
            "Epoch 2/5\n",
            "469/469 [==============================] - 2s 5ms/step - loss: 0.4039 - accuracy: 0.8569\n",
            "Epoch 3/5\n",
            "469/469 [==============================] - 2s 5ms/step - loss: 0.3649 - accuracy: 0.8694\n",
            "Epoch 4/5\n",
            "469/469 [==============================] - 2s 5ms/step - loss: 0.3362 - accuracy: 0.8794\n",
            "Epoch 5/5\n",
            "469/469 [==============================] - 2s 5ms/step - loss: 0.3182 - accuracy: 0.8852\n",
            "313/313 [==============================] - 1s 2ms/step - loss: 0.3828 - accuracy: 0.8643\n",
            "Evaluation resuls for 5 epochs :\n",
            "Loss = 0.3827519714832306 \n",
            "Accuracy = 0.864300012588501\n",
            "Epoch 1/10\n",
            "469/469 [==============================] - 2s 4ms/step - loss: 0.5525 - accuracy: 0.8104\n",
            "Epoch 2/10\n",
            "469/469 [==============================] - 2s 5ms/step - loss: 0.4060 - accuracy: 0.8582\n",
            "Epoch 3/10\n",
            "469/469 [==============================] - 2s 5ms/step - loss: 0.3598 - accuracy: 0.8718\n",
            "Epoch 4/10\n",
            "469/469 [==============================] - 2s 5ms/step - loss: 0.3417 - accuracy: 0.8775\n",
            "Epoch 5/10\n",
            "469/469 [==============================] - 2s 5ms/step - loss: 0.3191 - accuracy: 0.8855\n",
            "Epoch 6/10\n",
            "469/469 [==============================] - 2s 5ms/step - loss: 0.3042 - accuracy: 0.8906\n",
            "Epoch 7/10\n",
            "469/469 [==============================] - 2s 4ms/step - loss: 0.2906 - accuracy: 0.8940\n",
            "Epoch 8/10\n",
            "469/469 [==============================] - 2s 5ms/step - loss: 0.2786 - accuracy: 0.8987\n",
            "Epoch 9/10\n",
            "469/469 [==============================] - 2s 5ms/step - loss: 0.2732 - accuracy: 0.9000\n",
            "Epoch 10/10\n",
            "469/469 [==============================] - 2s 5ms/step - loss: 0.2613 - accuracy: 0.9047\n",
            "313/313 [==============================] - 1s 2ms/step - loss: 0.3425 - accuracy: 0.8794\n",
            "Evaluation resuls for 10 epochs :\n",
            "Loss = 0.34252411127090454 \n",
            "Accuracy = 0.8794000148773193\n",
            "Epoch 1/15\n",
            "469/469 [==============================] - 3s 5ms/step - loss: 0.5667 - accuracy: 0.8065\n",
            "Epoch 2/15\n",
            "469/469 [==============================] - 2s 5ms/step - loss: 0.4084 - accuracy: 0.8578\n",
            "Epoch 3/15\n",
            "469/469 [==============================] - 2s 5ms/step - loss: 0.3689 - accuracy: 0.8680\n",
            "Epoch 4/15\n",
            "469/469 [==============================] - 2s 4ms/step - loss: 0.3426 - accuracy: 0.8765\n",
            "Epoch 5/15\n",
            "469/469 [==============================] - 2s 5ms/step - loss: 0.3254 - accuracy: 0.8829\n",
            "Epoch 6/15\n",
            "469/469 [==============================] - 2s 5ms/step - loss: 0.3091 - accuracy: 0.8880\n",
            "Epoch 7/15\n",
            "469/469 [==============================] - 2s 5ms/step - loss: 0.2944 - accuracy: 0.8929\n",
            "Epoch 8/15\n",
            "469/469 [==============================] - 2s 5ms/step - loss: 0.2858 - accuracy: 0.8950\n",
            "Epoch 9/15\n",
            "469/469 [==============================] - 2s 5ms/step - loss: 0.2747 - accuracy: 0.9003\n",
            "Epoch 10/15\n",
            "469/469 [==============================] - 2s 5ms/step - loss: 0.2662 - accuracy: 0.9027\n",
            "Epoch 11/15\n",
            "469/469 [==============================] - 2s 5ms/step - loss: 0.2563 - accuracy: 0.9057\n",
            "Epoch 12/15\n",
            "469/469 [==============================] - 2s 4ms/step - loss: 0.2505 - accuracy: 0.9071\n",
            "Epoch 13/15\n",
            "469/469 [==============================] - 2s 4ms/step - loss: 0.2434 - accuracy: 0.9102\n",
            "Epoch 14/15\n",
            "469/469 [==============================] - 2s 5ms/step - loss: 0.2373 - accuracy: 0.9126\n",
            "Epoch 15/15\n",
            "469/469 [==============================] - 2s 4ms/step - loss: 0.2326 - accuracy: 0.9146\n",
            "313/313 [==============================] - 1s 2ms/step - loss: 0.3334 - accuracy: 0.8847\n",
            "Evaluation resuls for 15 epochs :\n",
            "Loss = 0.3334212899208069 \n",
            "Accuracy = 0.8847000002861023\n"
          ]
        }
      ]
    },
    {
      "cell_type": "code",
      "source": [
        ""
      ],
      "metadata": {
        "id": "dQerYX4-fS2o"
      },
      "execution_count": 55,
      "outputs": []
    }
  ],
  "metadata": {
    "colab": {
      "collapsed_sections": [],
      "name": "Fashion_mnist_NN_exercise.ipynb",
      "provenance": [],
      "include_colab_link": true
    },
    "kernelspec": {
      "display_name": "Python 3",
      "language": "python",
      "name": "python3"
    },
    "language_info": {
      "codemirror_mode": {
        "name": "ipython",
        "version": 3
      },
      "file_extension": ".py",
      "mimetype": "text/x-python",
      "name": "python",
      "nbconvert_exporter": "python",
      "pygments_lexer": "ipython3",
      "version": "3.7.4"
    }
  },
  "nbformat": 4,
  "nbformat_minor": 0
}