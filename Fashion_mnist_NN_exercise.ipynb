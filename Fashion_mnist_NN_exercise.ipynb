{
  "cells": [
    {
      "cell_type": "markdown",
      "metadata": {
        "id": "view-in-github",
        "colab_type": "text"
      },
      "source": [
        "<a href=\"https://colab.research.google.com/github/HRS5020/Tensorflow/blob/main/Fashion_mnist_NN_exercise.ipynb\" target=\"_parent\"><img src=\"https://colab.research.google.com/assets/colab-badge.svg\" alt=\"Open In Colab\"/></a>"
      ]
    },
    {
      "cell_type": "code",
      "source": [
        "%tensorflow_version 2.x\n",
        "import tensorflow as tf\n",
        "import pandas as pd\n",
        "import numpy as np\n",
        "import matplotlib.pyplot as plt\n",
        "\n",
        "print(\"Tensorflow verion = \", tf.__version__)"
      ],
      "metadata": {
        "colab": {
          "base_uri": "https://localhost:8080/"
        },
        "id": "zTU96NmaQvRG",
        "outputId": "8d7b642d-1a46-4ebd-a736-c7b87a9c8d28"
      },
      "execution_count": 56,
      "outputs": [
        {
          "output_type": "stream",
          "name": "stdout",
          "text": [
            "Tensorflow verion =  2.8.0\n"
          ]
        }
      ]
    },
    {
      "cell_type": "code",
      "source": [
        "# load the dataset\n",
        "\n",
        "fmnist = tf.keras.datasets.fashion_mnist\n",
        "\n",
        "(training_images, training_labels), (test_images, test_labels) = fmnist.load_data()\n"
      ],
      "metadata": {
        "id": "JGC_ARylRVfN"
      },
      "execution_count": 57,
      "outputs": []
    },
    {
      "cell_type": "code",
      "source": [
        "# sample training data visualisation\n",
        "\n",
        "index =0\n",
        "\n",
        "np.set_printoptions(linewidth=320)\n",
        "# check the raw data\n",
        "# print(f'LABEL: {training_labels[index]}')\n",
        "# print(f'\\nIMAGE PIXEL ARRAY:\\n {training_images[index]}')\n",
        "\n",
        "# Visualize the image\n",
        "plt.imshow(training_images[index])"
      ],
      "metadata": {
        "colab": {
          "base_uri": "https://localhost:8080/",
          "height": 283
        },
        "id": "qwZ9QTCMRgY7",
        "outputId": "1cd12cf4-303f-403b-d3b1-cb97f8fe790b"
      },
      "execution_count": 58,
      "outputs": [
        {
          "output_type": "execute_result",
          "data": {
            "text/plain": [
              "<matplotlib.image.AxesImage at 0x7f9a4ce25e10>"
            ]
          },
          "metadata": {},
          "execution_count": 58
        },
        {
          "output_type": "display_data",
          "data": {
            "text/plain": [
              "<Figure size 432x288 with 1 Axes>"
            ],
            "image/png": "[encoded data removed]"
          },
          "metadata": {
            "needs_background": "light"
          }
        }
      ]
    },
    {
      "cell_type": "code",
      "source": [
        "# Normalize the pixel values of the train and test images\n",
        "\n",
        "training_images  = training_images / 255.0\n",
        "test_images = test_images / 255.0"
      ],
      "metadata": {
        "id": "7KgtYRRsRuJ0"
      },
      "execution_count": 59,
      "outputs": []
    },
    {
      "cell_type": "code",
      "source": [
        "print(training_labels)"
      ],
      "metadata": {
        "colab": {
          "base_uri": "https://localhost:8080/"
        },
        "id": "-oXRwNqlSfwQ",
        "outputId": "4061ce04-a184-46f3-b7b0-df14df87b587"
      },
      "execution_count": 60,
      "outputs": [
        {
          "output_type": "stream",
          "name": "stdout",
          "text": [
            "[9 0 0 ... 3 0 5]\n"
          ]
        }
      ]
    },
    {
      "cell_type": "code",
      "source": [
        "# Build the classification model\n",
        "\n",
        "model = tf.keras.models.Sequential([tf.keras.layers.Flatten(), \n",
        "                                    tf.keras.layers.Dense(128, activation=tf.nn.relu), \n",
        "                                    tf.keras.layers.Dense(10, activation=tf.nn.softmax)])\n",
        "\n",
        "model.compile(optimizer = tf.optimizers.Adam(),\n",
        "              loss = 'sparse_categorical_crossentropy',\n",
        "              metrics=['accuracy'])\n",
        "\n",
        "model.fit(training_images, training_labels, epochs=5, batch_size=128)\n",
        "\n"
      ],
      "metadata": {
        "colab": {
          "base_uri": "https://localhost:8080/"
        },
        "id": "2IsN7WzfSioR",
        "outputId": "0b570de5-5662-45e2-d72a-1900b09adc70"
      },
      "execution_count": 61,
      "outputs": [
        {
          "output_type": "stream",
          "name": "stdout",
          "text": [
            "Epoch 1/5\n",
            "469/469 [==============================] - 2s 4ms/step - loss: 0.5506 - accuracy: 0.8108\n",
            "Epoch 2/5\n",
            "469/469 [==============================] - 3s 5ms/step - loss: 0.4103 - accuracy: 0.8553\n",
            "Epoch 3/5\n",
            "469/469 [==============================] - 2s 5ms/step - loss: 0.3691 - accuracy: 0.8685\n",
            "Epoch 4/5\n",
            "469/469 [==============================] - 2s 5ms/step - loss: 0.3413 - accuracy: 0.8770\n",
            "Epoch 5/5\n",
            "469/469 [==============================] - 2s 4ms/step - loss: 0.3274 - accuracy: 0.8815\n"
          ]
        },
        {
          "output_type": "execute_result",
          "data": {
            "text/plain": [
              "<keras.callbacks.History at 0x7f9a3fdd1d90>"
            ]
          },
          "metadata": {},
          "execution_count": 61
        }
      ]
    },
    {
      "cell_type": "code",
      "source": [
        "# Check how the model performs on unseen data \n",
        "\n",
        "result = model.evaluate(test_images, test_labels)\n",
        "print('Evaluation resuls:\\nLoss = {} \\nAccuracy = {}'.format(result[0],result[1]))"
      ],
      "metadata": {
        "colab": {
          "base_uri": "https://localhost:8080/"
        },
        "id": "L2aI1m0XS0hY",
        "outputId": "712be0c1-32f9-4df7-ac48-6badf631d4a6"
      },
      "execution_count": 62,
      "outputs": [
        {
          "output_type": "stream",
          "name": "stdout",
          "text": [
            "313/313 [==============================] - 1s 2ms/step - loss: 0.3566 - accuracy: 0.8755\n",
            "Evaluation resuls:\n",
            "Loss = 0.35658738017082214 \n",
            "Accuracy = 0.8755000233650208\n"
          ]
        }
      ]
    },
    {
      "cell_type": "markdown",
      "source": [
        "for a 128 hidden neurons in a hidden layer with relu activation fn,\n",
        "we could achieve the accuracy of 0.88 with training data and 0.86 with test data in 5 epochs.\n",
        "\n",
        "Now, we will experiment with these parameters and see the differences in result."
      ],
      "metadata": {
        "id": "CbE1SxhXTbAj"
      }
    },
    {
      "cell_type": "code",
      "source": [
        "# below returns the predicted value of each class by the trained model for each test images\n",
        "classifications = model.predict(test_images)\n",
        "\n",
        "# Example output probability for first test image\n",
        "print(classifications[0])\n",
        "print(np.argmax(classifications[0]))"
      ],
      "metadata": {
        "colab": {
          "base_uri": "https://localhost:8080/"
        },
        "id": "51UphO7sTRTG",
        "outputId": "b18eb989-1794-4a93-c34c-355e7893eaca"
      },
      "execution_count": 63,
      "outputs": [
        {
          "output_type": "stream",
          "name": "stdout",
          "text": [
            "[1.0720517e-05 6.1563625e-08 2.6664566e-06 2.3776727e-07 2.3234368e-06 2.7330868e-02 1.5999334e-05 5.9978161e-02 1.6564422e-03 9.1100246e-01]\n",
            "9\n"
          ]
        }
      ]
    },
    {
      "cell_type": "markdown",
      "source": [
        "**Imapct of number neurons in hidden layer **"
      ],
      "metadata": {
        "id": "y9ZP46SzWOg1"
      }
    },
    {
      "cell_type": "code",
      "source": [
        "# classification model function \n",
        "\n",
        "def classification_model(hidden_neurons,hidden_activation_fn):\n",
        "    model = tf.keras.models.Sequential([tf.keras.layers.Flatten(), \n",
        "                                    tf.keras.layers.Dense(hidden_neurons, activation=hidden_activation_fn), \n",
        "                                    tf.keras.layers.Dense(10, activation=tf.nn.softmax)])\n",
        "    return model"
      ],
      "metadata": {
        "id": "jAuh5HD6UvEc"
      },
      "execution_count": 64,
      "outputs": []
    },
    {
      "cell_type": "code",
      "source": [
        "# 512 hidden layer neurons\n",
        "model1 = classification_model(512, tf.nn.relu)\n",
        "model1.compile(optimizer = tf.optimizers.Adam(),\n",
        "              loss = 'sparse_categorical_crossentropy',\n",
        "              metrics=['accuracy'])\n",
        "\n",
        "model1.fit(training_images, training_labels, epochs=5, batch_size=128)"
      ],
      "metadata": {
        "colab": {
          "base_uri": "https://localhost:8080/"
        },
        "id": "E5ANKLoEYXb1",
        "outputId": "65be6ca8-99b4-4cb1-ec5e-57f9506054ca"
      },
      "execution_count": 65,
      "outputs": [
        {
          "output_type": "stream",
          "name": "stdout",
          "text": [
            "Epoch 1/5\n",
            "469/469 [==============================] - 5s 10ms/step - loss: 0.5099 - accuracy: 0.8217\n",
            "Epoch 2/5\n",
            "469/469 [==============================] - 5s 10ms/step - loss: 0.3769 - accuracy: 0.8645\n",
            "Epoch 3/5\n",
            "469/469 [==============================] - 5s 10ms/step - loss: 0.3342 - accuracy: 0.8792\n",
            "Epoch 4/5\n",
            "469/469 [==============================] - 5s 10ms/step - loss: 0.3060 - accuracy: 0.8875\n",
            "Epoch 5/5\n",
            "469/469 [==============================] - 5s 11ms/step - loss: 0.2864 - accuracy: 0.8951\n"
          ]
        },
        {
          "output_type": "execute_result",
          "data": {
            "text/plain": [
              "<keras.callbacks.History at 0x7f9a4caa9090>"
            ]
          },
          "metadata": {},
          "execution_count": 65
        }
      ]
    },
    {
      "cell_type": "code",
      "source": [
        "# 1024 hidden layer neurons\n",
        "model2 = classification_model(1024, tf.nn.relu)\n",
        "model2.compile(optimizer = tf.optimizers.Adam(),\n",
        "              loss = 'sparse_categorical_crossentropy',\n",
        "              metrics=['accuracy'])\n",
        "\n",
        "model2.fit(training_images, training_labels, epochs=5, batch_size=128)"
      ],
      "metadata": {
        "colab": {
          "base_uri": "https://localhost:8080/"
        },
        "id": "z6G3m5wUYvzW",
        "outputId": "12671d3b-488b-4747-ca39-30efcbaf80d6"
      },
      "execution_count": 66,
      "outputs": [
        {
          "output_type": "stream",
          "name": "stdout",
          "text": [
            "Epoch 1/5\n",
            "469/469 [==============================] - 9s 18ms/step - loss: 0.4985 - accuracy: 0.8237\n",
            "Epoch 2/5\n",
            "469/469 [==============================] - 8s 18ms/step - loss: 0.3664 - accuracy: 0.8675\n",
            "Epoch 3/5\n",
            "469/469 [==============================] - 9s 20ms/step - loss: 0.3208 - accuracy: 0.8832\n",
            "Epoch 4/5\n",
            "469/469 [==============================] - 8s 18ms/step - loss: 0.2975 - accuracy: 0.8905\n",
            "Epoch 5/5\n",
            "469/469 [==============================] - 8s 17ms/step - loss: 0.2817 - accuracy: 0.8968\n"
          ]
        },
        {
          "output_type": "execute_result",
          "data": {
            "text/plain": [
              "<keras.callbacks.History at 0x7f9a487cde50>"
            ]
          },
          "metadata": {},
          "execution_count": 66
        }
      ]
    },
    {
      "cell_type": "code",
      "source": [
        "result = model1.evaluate(test_images, test_labels)\n",
        "print('Evaluation resuls for model 1 :\\nLoss = {} \\nAccuracy = {}'.format(result[0],result[1]))\n",
        "\n",
        "result = model2.evaluate(test_images, test_labels)\n",
        "print('Evaluation resuls for model 2 :\\nLoss = {} \\nAccuracy = {}'.format(result[0],result[1]))"
      ],
      "metadata": {
        "colab": {
          "base_uri": "https://localhost:8080/"
        },
        "id": "iQqGsGk3ZwAz",
        "outputId": "783afdfd-fcca-4378-ceeb-a08abe20b8a2"
      },
      "execution_count": 67,
      "outputs": [
        {
          "output_type": "stream",
          "name": "stdout",
          "text": [
            "313/313 [==============================] - 1s 3ms/step - loss: 0.3419 - accuracy: 0.8755\n",
            "Evaluation resuls for model 1 :\n",
            "Loss = 0.3418695032596588 \n",
            "Accuracy = 0.8755000233650208\n",
            "313/313 [==============================] - 2s 5ms/step - loss: 0.3390 - accuracy: 0.8784\n",
            "Evaluation resuls for model 2 :\n",
            "Loss = 0.33900701999664307 \n",
            "Accuracy = 0.8784000277519226\n"
          ]
        }
      ]
    },
    {
      "cell_type": "markdown",
      "source": [
        "Accuracy does improve with increased neurons as well as time to train the model.\n",
        "However, the increase in training accuracy is negligible.\n",
        "Model 2 performs better for test data with 86.92% acc as compared model 1 with 82.38%"
      ],
      "metadata": {
        "id": "MOXyIzx0ZXgQ"
      }
    },
    {
      "cell_type": "markdown",
      "source": [
        "# Effect of number Epochs "
      ],
      "metadata": {
        "id": "tg96nXj2b85O"
      }
    },
    {
      "cell_type": "code",
      "source": [
        "# Build the classification model\n",
        "\n",
        "model3 = tf.keras.models.Sequential([tf.keras.layers.Flatten(), \n",
        "                                    tf.keras.layers.Dense(128, activation=tf.nn.relu), \n",
        "                                    tf.keras.layers.Dense(10, activation=tf.nn.softmax)])\n",
        "\n",
        "\n",
        "\n",
        "\n",
        "\n",
        "# Run a loop cloning the model for diff epochs\n",
        "for i in [5,10,15]:\n",
        "\n",
        "    model_cloned = tf.keras.models.clone_model(model3)\n",
        "\n",
        "    model_cloned.compile(optimizer = tf.optimizers.Adam(),\n",
        "                         loss = 'sparse_categorical_crossentropy',\n",
        "                         metrics=['accuracy'])\n",
        "\n",
        "    model_cloned.fit(training_images, training_labels, epochs=i, batch_size=128)\n",
        "\n",
        "    result = model_cloned.evaluate(test_images, test_labels)\n",
        "    print('Evaluation resuls for {} epochs :\\nLoss = {} \\nAccuracy = {}'.format(i, result[0],result[1]))\n",
        "\n",
        "\n"
      ],
      "metadata": {
        "colab": {
          "base_uri": "https://localhost:8080/"
        },
        "id": "RnnlOVUJZEVP",
        "outputId": "0952443e-4feb-4ef0-94e0-50bb545aab74"
      },
      "execution_count": 68,
      "outputs": [
        {
          "output_type": "stream",
          "name": "stdout",
          "text": [
            "Epoch 1/5\n",
            "469/469 [==============================] - 3s 5ms/step - loss: 0.5497 - accuracy: 0.8109\n",
            "Epoch 2/5\n",
            "469/469 [==============================] - 3s 6ms/step - loss: 0.4007 - accuracy: 0.8592\n",
            "Epoch 3/5\n",
            "469/469 [==============================] - 3s 6ms/step - loss: 0.3661 - accuracy: 0.8698\n",
            "Epoch 4/5\n",
            "469/469 [==============================] - 2s 5ms/step - loss: 0.3384 - accuracy: 0.8772\n",
            "Epoch 5/5\n",
            "469/469 [==============================] - 3s 6ms/step - loss: 0.3157 - accuracy: 0.8851\n",
            "313/313 [==============================] - 1s 2ms/step - loss: 0.3687 - accuracy: 0.8691\n",
            "Evaluation resuls for 5 epochs :\n",
            "Loss = 0.3687317669391632 \n",
            "Accuracy = 0.8690999746322632\n",
            "Epoch 1/10\n",
            "469/469 [==============================] - 2s 4ms/step - loss: 0.5540 - accuracy: 0.8092\n",
            "Epoch 2/10\n",
            "469/469 [==============================] - 2s 5ms/step - loss: 0.4068 - accuracy: 0.8571\n",
            "Epoch 3/10\n",
            "469/469 [==============================] - 3s 5ms/step - loss: 0.3655 - accuracy: 0.8693\n",
            "Epoch 4/10\n",
            "469/469 [==============================] - 2s 5ms/step - loss: 0.3403 - accuracy: 0.8777\n",
            "Epoch 5/10\n",
            "469/469 [==============================] - 2s 5ms/step - loss: 0.3232 - accuracy: 0.8823\n",
            "Epoch 6/10\n",
            "469/469 [==============================] - 2s 5ms/step - loss: 0.3057 - accuracy: 0.8883\n",
            "Epoch 7/10\n",
            "469/469 [==============================] - 2s 5ms/step - loss: 0.2917 - accuracy: 0.8935\n",
            "Epoch 8/10\n",
            "469/469 [==============================] - 2s 5ms/step - loss: 0.2810 - accuracy: 0.8974\n",
            "Epoch 9/10\n",
            "469/469 [==============================] - 2s 5ms/step - loss: 0.2723 - accuracy: 0.9006\n",
            "Epoch 10/10\n",
            "469/469 [==============================] - 2s 5ms/step - loss: 0.2621 - accuracy: 0.9031\n",
            "313/313 [==============================] - 1s 2ms/step - loss: 0.3448 - accuracy: 0.8757\n",
            "Evaluation resuls for 10 epochs :\n",
            "Loss = 0.3447507917881012 \n",
            "Accuracy = 0.8756999969482422\n",
            "Epoch 1/15\n",
            "469/469 [==============================] - 2s 4ms/step - loss: 0.5545 - accuracy: 0.8105\n",
            "Epoch 2/15\n",
            "469/469 [==============================] - 2s 5ms/step - loss: 0.4073 - accuracy: 0.8578\n",
            "Epoch 3/15\n",
            "469/469 [==============================] - 2s 5ms/step - loss: 0.3648 - accuracy: 0.8712\n",
            "Epoch 4/15\n",
            "469/469 [==============================] - 2s 5ms/step - loss: 0.3382 - accuracy: 0.8795\n",
            "Epoch 5/15\n",
            "469/469 [==============================] - 2s 5ms/step - loss: 0.3205 - accuracy: 0.8850\n",
            "Epoch 6/15\n",
            "469/469 [==============================] - 2s 5ms/step - loss: 0.3059 - accuracy: 0.8899\n",
            "Epoch 7/15\n",
            "469/469 [==============================] - 2s 5ms/step - loss: 0.2910 - accuracy: 0.8950\n",
            "Epoch 8/15\n",
            "469/469 [==============================] - 2s 5ms/step - loss: 0.2784 - accuracy: 0.8988\n",
            "Epoch 9/15\n",
            "469/469 [==============================] - 2s 5ms/step - loss: 0.2683 - accuracy: 0.9022\n",
            "Epoch 10/15\n",
            "469/469 [==============================] - 2s 5ms/step - loss: 0.2600 - accuracy: 0.9063\n",
            "Epoch 11/15\n",
            "469/469 [==============================] - 2s 5ms/step - loss: 0.2540 - accuracy: 0.9075\n",
            "Epoch 12/15\n",
            "469/469 [==============================] - 2s 5ms/step - loss: 0.2439 - accuracy: 0.9102\n",
            "Epoch 13/15\n",
            "469/469 [==============================] - 2s 5ms/step - loss: 0.2370 - accuracy: 0.9129\n",
            "Epoch 14/15\n",
            "469/469 [==============================] - 2s 5ms/step - loss: 0.2301 - accuracy: 0.9152\n",
            "Epoch 15/15\n",
            "469/469 [==============================] - 2s 4ms/step - loss: 0.2246 - accuracy: 0.9173\n",
            "313/313 [==============================] - 1s 2ms/step - loss: 0.3359 - accuracy: 0.8842\n",
            "Evaluation resuls for 15 epochs :\n",
            "Loss = 0.3359389007091522 \n",
            "Accuracy = 0.8841999769210815\n"
          ]
        }
      ]
    },
    {
      "cell_type": "code",
      "source": [
        "# use callbacks to stop training once desired accuracy is achieved.\n",
        "\n",
        "class myCallback(tf.keras.callbacks.Callback):\n",
        "  def on_epoch_end(self, epoch, logs={}):\n",
        "    if(logs.get('accuracy') >= 0.9): # Experiment with changing this value\n",
        "      print(\"\\nReached 90% accuracy so cancelling training!\")\n",
        "      self.model.stop_training = True\n",
        "\n",
        "callbacks = myCallback()\n",
        "mnist = tf.keras.datasets.fashion_mnist\n",
        "(training_images, training_labels), (test_images, test_labels) = mnist.load_data()\n",
        "training_images=training_images/255.0\n",
        "test_images=test_images/255.0\n",
        "model = tf.keras.models.Sequential([\n",
        "  tf.keras.layers.Flatten(),\n",
        "  tf.keras.layers.Dense(512, activation=tf.nn.relu),\n",
        "  tf.keras.layers.Dense(10, activation=tf.nn.softmax)\n",
        "])\n",
        "model.compile(optimizer='adam', loss='sparse_categorical_crossentropy', metrics=['accuracy'])\n",
        "model.fit(training_images, training_labels, epochs=10, callbacks=[callbacks])"
      ],
      "metadata": {
        "colab": {
          "base_uri": "https://localhost:8080/"
        },
        "id": "dQerYX4-fS2o",
        "outputId": "b9e2aca6-3721-4af0-9a29-b55d7f495d16"
      },
      "execution_count": 72,
      "outputs": [
        {
          "output_type": "stream",
          "name": "stdout",
          "text": [
            "Epoch 1/10\n",
            "1875/1875 [==============================] - 10s 5ms/step - loss: 0.4738 - accuracy: 0.8311\n",
            "Epoch 2/10\n",
            "1875/1875 [==============================] - 12s 6ms/step - loss: 0.3584 - accuracy: 0.8697\n",
            "Epoch 3/10\n",
            "1875/1875 [==============================] - 12s 6ms/step - loss: 0.3221 - accuracy: 0.8812\n",
            "Epoch 4/10\n",
            "1875/1875 [==============================] - 12s 6ms/step - loss: 0.2989 - accuracy: 0.8898\n",
            "Epoch 5/10\n",
            "1875/1875 [==============================] - 12s 6ms/step - loss: 0.2788 - accuracy: 0.8974\n",
            "Epoch 6/10\n",
            "1873/1875 [============================>.] - ETA: 0s - loss: 0.2656 - accuracy: 0.9014\n",
            "Reached 90% accuracy so cancelling training!\n",
            "1875/1875 [==============================] - 11s 6ms/step - loss: 0.2656 - accuracy: 0.9014\n"
          ]
        },
        {
          "output_type": "execute_result",
          "data": {
            "text/plain": [
              "<keras.callbacks.History at 0x7f9a48193a50>"
            ]
          },
          "metadata": {},
          "execution_count": 72
        }
      ]
    },
    {
      "cell_type": "code",
      "source": [
        ""
      ],
      "metadata": {
        "id": "6J3MA84x3aiH"
      },
      "execution_count": null,
      "outputs": []
    }
  ],
  "metadata": {
    "colab": {
      "collapsed_sections": [],
      "name": "Fashion_mnist_NN_exercise.ipynb",
      "provenance": [],
      "include_colab_link": true
    },
    "kernelspec": {
      "display_name": "Python 3",
      "language": "python",
      "name": "python3"
    },
    "language_info": {
      "codemirror_mode": {
        "name": "ipython",
        "version": 3
      },
      "file_extension": ".py",
      "mimetype": "text/x-python",
      "name": "python",
      "nbconvert_exporter": "python",
      "pygments_lexer": "ipython3",
      "version": "3.7.4"
    }
  },
  "nbformat": 4,
  "nbformat_minor": 0
}