{
  "cells": [
    {
      "cell_type": "markdown",
      "metadata": {
        "id": "view-in-github",
        "colab_type": "text"
      },
      "source": [
        "<a href=\"https://colab.research.google.com/github/HRS5020/Tensorflow/blob/main/FMNIST_CNN.ipynb\" target=\"_parent\"><img src=\"https://colab.research.google.com/assets/colab-badge.svg\" alt=\"Open In Colab\"/></a>"
      ]
    },
    {
      "cell_type": "markdown",
      "metadata": {
        "id": "zldEXSsF8Noz"
      },
      "source": [
        "## Convolutional Neural Network\n",
        "\n",
        "\n",
        "*   CNN model with FMNIST dataset.\n",
        "*   Experiments with number of filters, filter size, pooling size etc.\n",
        "*   Implementing callbacks to stop training.\n"
      ]
    },
    {
      "cell_type": "code",
      "source": [
        "%tensorflow_version 2.x\n",
        "import tensorflow as tf\n",
        "import pandas as pd\n",
        "import numpy as np\n",
        "import matplotlib.pyplot as plt\n",
        "\n",
        "print(\"Tensorflow verion = \", tf.__version__)"
      ],
      "metadata": {
        "id": "-2wDCWhR7uR_"
      },
      "execution_count": null,
      "outputs": []
    },
    {
      "cell_type": "code",
      "source": [
        "from matplotlib import cm\n",
        "# load the dataset\n",
        "\n",
        "fmnist = tf.keras.datasets.fashion_mnist\n",
        "\n",
        "(training_images, training_labels), (test_images, test_labels) = fmnist.load_data()\n",
        "\n",
        "# sample training data visualisation\n",
        "\n",
        "index =0\n",
        "\n",
        "np.set_printoptions(linewidth=320)\n",
        "# check the raw data\n",
        "# print(f'LABEL: {training_labels[index]}')\n",
        "# print(f'\\nIMAGE PIXEL ARRAY:\\n {training_images[index]}')\n",
        "\n",
        "# Visualize the image\n",
        "plt.imshow(training_images[index], cmap='gray')"
      ],
      "metadata": {
        "id": "GB5474b-7zyh"
      },
      "execution_count": null,
      "outputs": []
    },
    {
      "cell_type": "code",
      "execution_count": null,
      "metadata": {
        "id": "C0tFgT1MMKi6"
      },
      "outputs": [],
      "source": [
        "# define the model \n",
        "\n",
        "def cnn_model(filter_no, filter_size, filter_activation, pooling_size):\n",
        "    model = tf.keras.models.Sequential([\n",
        "                                        # Add convolutions and max pooling\n",
        "                                        tf.keras.layers.Conv2D(filter_no, filter_size, activation=filter_activation, input_shape=(28, 28, 1)),\n",
        "                                        tf.keras.layers.MaxPooling2D(pooling_size),\n",
        "\n",
        "                                        tf.keras.layers.Conv2D(filter_no, filter_size, activation=filter_activation),\n",
        "                                        tf.keras.layers.MaxPooling2D(pooling_size),\n",
        "                                        \n",
        "                                        # Add the same layers as in DNN\n",
        "                                        tf.keras.layers.Flatten(),\n",
        "                                        tf.keras.layers.Dense(128, activation='relu'),\n",
        "                                        tf.keras.layers.Dense(10, activation='softmax')\n",
        "                                        ])\n",
        "    return model\n",
        "\n",
        "model = cnn_model(32, (3,3), 'relu', (2,2))\n",
        "\n",
        "# Print the model summary\n",
        "model.summary()\n",
        "\n",
        "# Use same settings\n",
        "model.compile(optimizer='adam', loss='sparse_categorical_crossentropy', metrics=['accuracy'])\n",
        "\n",
        "# Train the model\n",
        "print(f'\\nMODEL TRAINING:')\n",
        "model.fit(training_images, training_labels, epochs=5)\n",
        "\n",
        "# Evaluate on the test set\n",
        "print(f'\\nMODEL EVALUATION:')\n",
        "test_loss = model.evaluate(test_images, test_labels)\n"
      ]
    },
    {
      "cell_type": "markdown",
      "metadata": {
        "id": "IXx_LX3SAlFs"
      },
      "source": [
        "# Visualizing the Convolutions and Pooling\n",
        "\n",
        "Let's explore how to show the convolutions graphically. The cell below prints the first 100 labels in the test set, and you can see that the ones at index `0`, index `23` and index `28` are all the same value (i.e. `9`). They're all shoes. Let's take a look at the result of running the convolution on each, and you'll begin to see common features between them emerge. Now, when the dense layer is training on that data, it's working with a lot less, and it's perhaps finding a commonality between shoes based on this convolution/pooling combination."
      ]
    },
    {
      "cell_type": "code",
      "execution_count": null,
      "metadata": {
        "id": "f-6nX4QsOku6"
      },
      "outputs": [],
      "source": [
        "print(test_labels[:100])"
      ]
    },
    {
      "cell_type": "code",
      "execution_count": null,
      "metadata": {
        "id": "9FGsHhv6JvDx"
      },
      "outputs": [],
      "source": [
        "import matplotlib.pyplot as plt\n",
        "from tensorflow.keras import models\n",
        "\n",
        "f, axarr = plt.subplots(3,4)\n",
        "\n",
        "FIRST_IMAGE=0\n",
        "SECOND_IMAGE=23\n",
        "THIRD_IMAGE=28\n",
        "CONVOLUTION_NUMBER = 1\n",
        "\n",
        "layer_outputs = [layer.output for layer in model.layers]\n",
        "activation_model = tf.keras.models.Model(inputs = model.input, outputs = layer_outputs)\n",
        "\n",
        "for x in range(0,4):\n",
        "  f1 = activation_model.predict(test_images[FIRST_IMAGE].reshape(1, 28, 28, 1))[x]\n",
        "  axarr[0,x].imshow(f1[0, : , :, CONVOLUTION_NUMBER], cmap='inferno')\n",
        "  axarr[0,x].grid(False)\n",
        "  \n",
        "  f2 = activation_model.predict(test_images[SECOND_IMAGE].reshape(1, 28, 28, 1))[x]\n",
        "  axarr[1,x].imshow(f2[0, : , :, CONVOLUTION_NUMBER], cmap='inferno')\n",
        "  axarr[1,x].grid(False)\n",
        "  \n",
        "  f3 = activation_model.predict(test_images[THIRD_IMAGE].reshape(1, 28, 28, 1))[x]\n",
        "  axarr[2,x].imshow(f3[0, : , :, CONVOLUTION_NUMBER], cmap='inferno')\n",
        "  axarr[2,x].grid(False)"
      ]
    },
    {
      "cell_type": "code",
      "source": [
        "model_64 = cnn_model(64, (3,3), 'relu', (2,2))\n",
        "model_64.summary()\n",
        "model_64.compile(optimizer='adam', loss='sparse_categorical_crossentropy', metrics=['accuracy'])\n",
        "\n",
        "print(f'\\nMODEL TRAINING:')\n",
        "model_64.fit(training_images, training_labels, epochs=5)\n",
        "\n",
        "print(f'\\nMODEL EVALUATION:')\n",
        "test_loss = model_64.evaluate(test_images, test_labels)\n"
      ],
      "metadata": {
        "id": "K5-PIC5T-h2O"
      },
      "execution_count": null,
      "outputs": []
    },
    {
      "cell_type": "code",
      "source": [
        "model_16 = cnn_model(16, (3,3), 'relu', (2,2))\n",
        "model_16.summary()\n",
        "model_16.compile(optimizer='adam', loss='sparse_categorical_crossentropy', metrics=['accuracy'])\n",
        "\n",
        "print(f'\\nMODEL TRAINING:')\n",
        "model_16.fit(training_images, training_labels, epochs=5)\n",
        "\n",
        "print(f'\\nMODEL EVALUATION:')\n",
        "test_loss = model_16.evaluate(test_images, test_labels)"
      ],
      "metadata": {
        "id": "4DAO16nr_PKU"
      },
      "execution_count": null,
      "outputs": []
    },
    {
      "cell_type": "code",
      "source": [
        "model_128 = cnn_model(128, (3,3), 'relu', (2,2))\n",
        "model_128.summary()\n",
        "model_128.compile(optimizer='adam', loss='sparse_categorical_crossentropy', metrics=['accuracy'])\n",
        "\n",
        "print(f'\\nMODEL TRAINING:')\n",
        "model_128.fit(training_images, training_labels, epochs=5)\n",
        "\n",
        "print(f'\\nMODEL EVALUATION:')\n",
        "test_loss = model_128.evaluate(test_images, test_labels)"
      ],
      "metadata": {
        "id": "Gbux4o04ACVr"
      },
      "execution_count": null,
      "outputs": []
    },
    {
      "cell_type": "markdown",
      "source": [
        "Number of Filter --- Training acc ---- Test acc\n",
        "-------------------------------------------------\n",
        "*   16 ----- 0.8945 ---- 0.8736 \n",
        "*   32 ----- 0.9105 ---- 0.8892\n",
        "*   64 ----- 0.9064 ---- 0.8878\n",
        "*   128 ---- 0.9068 ---- 0.8857"
      ],
      "metadata": {
        "id": "gX1iQFucAx-m"
      }
    },
    {
      "cell_type": "markdown",
      "source": [
        "# Effect of epochs with 32 filters (3,3)\n"
      ],
      "metadata": {
        "id": "rbqgW4K5CHdC"
      }
    },
    {
      "cell_type": "code",
      "source": [
        "for i in range(5,20,5):\n",
        "    print('Epoch = {}\\n'.format(i))\n",
        "    # clear model session \n",
        "    tf.keras.backend.clear_session()\n",
        "    \n",
        "    model = cnn_model(32, (3,3), 'relu', (2,2))\n",
        "    \n",
        "    model.compile(optimizer='adam', loss='sparse_categorical_crossentropy', metrics=['accuracy'])\n",
        "\n",
        "    print(f'\\nMODEL TRAINING:')\n",
        "    model.fit(training_images, training_labels, epochs=i)\n",
        "\n",
        "    print(f'\\nMODEL EVALUATION:')\n",
        "    test_loss = model.evaluate(test_images, test_labels)\n",
        "\n",
        "    \n",
        "    \n"
      ],
      "metadata": {
        "id": "f7I867MVCEqU"
      },
      "execution_count": null,
      "outputs": []
    },
    {
      "cell_type": "markdown",
      "source": [
        "Number of Epochs --- Training acc ---- Test acc\n",
        "*   5 ----  0.9052 --- 0.8803\n",
        "*   10 ---- 0.9259 --- 0.8937\n",
        "*   15 ---- 0.9403 --- 0.8905\n",
        "\n",
        "for more epochs, we run into model overfitting as we dont see as much inprovement in test acc compared to training acc.\n",
        "\n"
      ],
      "metadata": {
        "id": "aNhbke-dGUrA"
      }
    },
    {
      "cell_type": "markdown",
      "source": [
        "# Experiment with pooling layers"
      ],
      "metadata": {
        "id": "p6Ht-07-KJ3A"
      }
    },
    {
      "cell_type": "code",
      "source": [
        "for i in [2,4]:\n",
        "    print('pooling size = ({}, {})\\n'.format(i,i))\n",
        "    # clear model session \n",
        "    tf.keras.backend.clear_session()\n",
        "    \n",
        "    model = cnn_model(32, (3,3), 'relu', (i,i))\n",
        "    model.summary()\n",
        "    \n",
        "    model.compile(optimizer='adam', loss='sparse_categorical_crossentropy', metrics=['accuracy'])\n",
        "\n",
        "    print(f'\\nMODEL TRAINING:')\n",
        "    model.fit(training_images, training_labels, epochs=5)\n",
        "\n",
        "    print(f'\\nMODEL EVALUATION:')\n",
        "    test_loss = model.evaluate(test_images, test_labels)\n",
        "\n"
      ],
      "metadata": {
        "id": "xkT6E0j2KQEW"
      },
      "execution_count": null,
      "outputs": []
    },
    {
      "cell_type": "markdown",
      "source": [
        "# implementing callback to stop training at 0.91 accuracy."
      ],
      "metadata": {
        "id": "cBrH7SFdHXbh"
      }
    },
    {
      "cell_type": "code",
      "source": [
        "# class myCallback(tf.keras.callbacks.Callback):\n",
        "#   def on_epoch_end(self, epoch, logs={}):\n",
        "#     if(logs.get('accuracy') >= 0.9): # Experiment with changing this value\n",
        "#       print(\"\\nReached 90% accuracy so cancelling training!\")\n",
        "#       self.model.stop_training = True\n",
        "\n",
        "\n",
        "\n",
        "class myCallback(tf.keras.callbacks.Callback):\n",
        "    def on_epoch_end(self,epoch,logs={}):\n",
        "        if(logs.get('accuracy')>=0.91):\n",
        "            print(\"\\nReached 91% accuracy so cancelling training!\")\n",
        "            self.model.stop_training = True\n",
        "\n",
        "\n",
        "tf.keras.backend.clear_session()\n",
        "model = cnn_model(32, (3,3), 'relu', (2,2))\n",
        "model.compile(optimizer='adam', loss='sparse_categorical_crossentropy', metrics=['accuracy'])\n",
        "print(f'\\nMODEL TRAINING:')\n",
        "model.fit(training_images, training_labels, epochs=10, callbacks=myCallback())\n",
        "print(f'\\nMODEL EVALUATION:')\n",
        "test_loss = model.evaluate(test_images, test_labels)"
      ],
      "metadata": {
        "id": "Mp-BVuJHGggj"
      },
      "execution_count": null,
      "outputs": []
    },
    {
      "cell_type": "code",
      "source": [
        ""
      ],
      "metadata": {
        "id": "iFFfLdv_IxfT"
      },
      "execution_count": null,
      "outputs": []
    }
  ],
  "metadata": {
    "accelerator": "GPU",
    "colab": {
      "collapsed_sections": [],
      "name": "FMNIST_CNN.ipynb",
      "private_outputs": true,
      "provenance": [],
      "include_colab_link": true
    },
    "kernelspec": {
      "display_name": "Python 3",
      "language": "python",
      "name": "python3"
    },
    "language_info": {
      "codemirror_mode": {
        "name": "ipython",
        "version": 3
      },
      "file_extension": ".py",
      "mimetype": "text/x-python",
      "name": "python",
      "nbconvert_exporter": "python",
      "pygments_lexer": "ipython3",
      "version": "3.7.4"
    }
  },
  "nbformat": 4,
  "nbformat_minor": 0
}